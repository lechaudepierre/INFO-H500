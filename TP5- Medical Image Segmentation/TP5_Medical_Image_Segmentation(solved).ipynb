{
 "cells": [
  {
   "cell_type": "markdown",
   "metadata": {},
   "source": [
    "## Medical Image Segmentation using Lung CT NIfTI Files\n",
    "\n",
    "Medical image segmentation is a critical task in medical imaging, aiming to partition images into meaningful regions, such as separating organs or identifying pathologies. This process is essential for various clinical and research applications, enabling accurate analysis and treatment planning. In this tutorial, we will focus on segmenting lung structures from CT scans using traditional image processing methods.\n",
    "\n",
    "#### Objectives\n",
    "- Understand the concept of medical image segmentation.\n",
    "- Explore different types of segmentation techniques.\n",
    "- Assess segmentation using appropriate metrics.\n",
    "\n"
   ]
  },
  {
   "cell_type": "markdown",
   "metadata": {},
   "source": [
    "### What is Image Segmentation?\n",
    "Image segmentation involves partitioning an image into distinct regions based on specific criteria, such as intensity values, edges, or texture. The goal is to label each pixel in the image with a class (e.g., lung, background) to highlight structures of interest.\n",
    "\n",
    "Medical image segmentation is crucial for:\n",
    "1. **Diagnosis**: Segmenting organs or tumors helps in identifying abnormalities and aids in diagnosis.\n",
    "2. **Treatment Planning**: Accurate segmentation ensures precise targeting of treatment areas, such as in radiation therapy.\n",
    "3. **Surgical Planning**: Segmentation guides surgical procedures by identifying anatomical structures, ensuring safer surgeries.\n",
    "4. **Disease Monitoring**: Longitudinal segmentation helps track disease progression or treatment response by quantifying changes in tissue volume.\n",
    "5. **Research**: Provides standardized measurements and regions of interest for further analysis, particularly in clinical trials and population-based studies.\n",
    "\n",
    "In medical imaging, segmentation typically deals with organs (e.g., lungs, liver), tissues (e.g., muscles, fat), or pathological regions (e.g., tumors)."
   ]
  },
  {
   "cell_type": "markdown",
   "metadata": {},
   "source": [
    "### Types of Segmentation Methods\n",
    "\n",
    "In medical image segmentation, different types of segmentation methods can be used, each with specific advantages and disadvantages depending on the imaging modality (e.g., MRI, CT, ultrasound) and the anatomical structures of interest. Here's a breakdown of the types of segmentation techniques that are commonly applied in medical image analysis:\n",
    "\n",
    "| **Segmentation Type**       | **Description**                                                                 | **Example Use Cases**                                         |\n",
    "|-----------------------------|---------------------------------------------------------------------------------|---------------------------------------------------------------|\n",
    "| Threshold-Based            | Separates regions based on intensity values. Simple and fast.                    | Bone segmentation in CT, lung extraction                      |\n",
    "| Region-Based               | Expands regions from seed points based on similarity criteria like intensity.     | Tumor delineation, liver segmentation                          |\n",
    "| Edge-Based                 | Detects boundaries by identifying significant changes in intensity.               | Organ contour extraction, tumor boundaries                     |\n",
    "| Clustering-Based           | Groups pixels into clusters based on similarity, suitable for multi-modal data.  | Brain tissue segmentation, tissue differentiation              |\n",
    "| Graph-Based                | Uses graphs to find globally optimal segmentations based on similarity measures.  | Blood vessel segmentation, brain tumor segmentation            |\n",
    "| Morphological              | Uses operations like dilation, erosion, opening, and closing to refine results.  | Noise removal, refining lung masks                             |\n",
    "| Atlas-Based                | Uses a reference template or atlas for guiding segmentation.                     | Brain atlas registration, organ segmentation in pediatrics     |\n",
    "| Texture-Based              | Analyzes texture patterns for segmentation, capturing fine details.               | Tumor heterogeneity analysis, tissue characterization          |\n",
    "| Statistical Shape Models   | Uses shape models built from training data to segment predictable structures.     | Prostate segmentation, heart modeling                          |\n",
    "| Level Set                  | Evolves curves over time to segment based on energy minimization principles.     | Complex tumor segmentation, 3D organ separation                |\n",
    "\n",
    "Each of these segmentation methods has strengths and is chosen based on the problem, image quality, and anatomical structures involved. Understanding the data's nature and the anatomy to be segmented aids in selecting the most appropriate method."
   ]
  },
  {
   "cell_type": "code",
   "execution_count": 1,
   "metadata": {},
   "outputs": [],
   "source": [
    "# Import necessary libraries\n",
    "import numpy as np\n",
    "import nibabel as nib\n",
    "import matplotlib.pyplot as plt\n",
    "from scipy import ndimage as ndi\n",
    "from skimage import morphology, measure, filters, feature\n",
    "from skimage.segmentation import watershed, random_walker, morphological_geodesic_active_contour\n",
    "from skimage.feature import canny, local_binary_pattern\n",
    "from skimage.morphology import disk\n",
    "import os\n",
    "import glob"
   ]
  },
  {
   "cell_type": "code",
   "execution_count": null,
   "metadata": {},
   "outputs": [],
   "source": [
    "# Load the Lung CT slices\n",
    "input_folder = \"/home/toshnapanjwani/Documents/Coursework/INFO-H-500/TP_Solutions/Lung_Images/\"\n",
    "file_paths = sorted(glob.glob(os.path.join(input_folder, \"*.nii.gz\")))\n",
    "\n",
    "# Function to resize slices to a common shape\n",
    "def resize_to_shape(data, target_shape):\n",
    "    return ndi.zoom(data, np.array(target_shape) / np.array(data.shape), order=1)\n",
    "\n",
    "# Determine the target shape (use the shape of the first slice as reference)\n",
    "reference_shape = nib.load(file_paths[0]).get_fdata().shape\n",
    "\n",
    "# Combine all slices into a 3D array with uniform shape\n",
    "lung_slices = []\n",
    "for fp in file_paths:\n",
    "    slice_data = nib.load(fp).get_fdata()\n",
    "    if slice_data.shape != reference_shape:\n",
    "        slice_data = resize_to_shape(slice_data, reference_shape)\n",
    "    lung_slices.append(slice_data)\n",
    "\n",
    "# Stack resized slices into a 3D volume\n",
    "lung_volume = np.stack(lung_slices, axis=-1)\n",
    "print(f\"Lung volume shape: {lung_volume.shape}\")\n"
   ]
  },
  {
   "cell_type": "code",
   "execution_count": 7,
   "metadata": {},
   "outputs": [],
   "source": [
    "# Visualize function\n",
    "def plot_slices(volume, title=\"\"):\n",
    "    fig, axes = plt.subplots(1, 3, figsize=(12, 4))\n",
    "    mid_slices = [5, 10, 15]  # Adjust based on volume size\n",
    "    for ax, slice_idx in zip(axes, mid_slices):\n",
    "        ax.imshow(volume[:, :, slice_idx], cmap='gray')\n",
    "        ax.set_title(f'Slice {slice_idx}')\n",
    "        ax.axis('off')\n",
    "    plt.suptitle(title)\n",
    "    plt.show()"
   ]
  },
  {
   "cell_type": "markdown",
   "metadata": {},
   "source": [
    "#### Hounsfield  Vaules and Windowing\n",
    "\n",
    "CT images store pixel values that represent the radiodensity of tissues. These raw values need to be converted to Hounsfield Units (HU), which provide a standardized scale of tissue density. The conversion depends on metadata parameters stored in the CT image: the *rescale slope* and *intercept*.\n",
    "\n",
    "Additionally, in cases where the scan's output is square but the actual scan region is cylindrical (as is often the case), certain pixels in the image will lie outside the cylindrical bounds. These pixels are typically assigned a value of `-2000`, indicating regions outside the scan (non-imaged areas). For proper processing, these values should be set to `0`, which corresponds to air.\n",
    "\n",
    "\n",
    "##### HU Conversion Formula:\n",
    "$$\n",
    "\\text{HU} = \\text{Pixel Value} \\times \\text{Rescale Slope} + \\text{Intercept}\n",
    "$$\n",
    "\n",
    "\n",
    "### HU Values and Common Windowing Ranges for Segmentation\n",
    "\n",
    "| **Substance/Tissue**      | **Typical HU Range**                 | **Common Windowing**                     | **Segmentation Methods**                                      |\n",
    "|---------------------------|---------------------------------------|-------------------------------------------|---------------------------------------------------------------|\n",
    "| **Air**                   | -1000                                 | `[-1000, -800]` for air-filled structures | Thresholding for lung parenchyma, segmentation of cavities    |\n",
    "| **Lung**                  | -500                                  | `[-1000, -400]`                           | Thresholding, region-based (watershed), edge-based            |\n",
    "| **Fat**                   | -100 to -50                           | `[-100, +200]`                            | Region-based, texture-based                                  |\n",
    "| **Water**                 | 0                                     | `[-100, +200]`                            | General reference point, often used in contrast studies      |\n",
    "| **CSF (Cerebrospinal Fluid)** | 15                               | `[-50, +100]`                             | Brain segmentation, intensity-based registration              |\n",
    "| **Kidney**                | 30                                    | `[+30, +90]`                              | Graph-based segmentation, region growing                      |\n",
    "| **Blood**                 | +30 to +45                            | `[+30, +90]`                              | Region-based methods, graph-based segmentation                |\n",
    "| **Muscle**                | +10 to +40                            | `[-100, +200]`                            | Region-based, texture-based, graph-based                      |\n",
    "| **Grey matter**           | +37 to +45                            | `[-50, +100]`                             | Brain segmentation, intensity-based registration              |\n",
    "| **White matter**          | +20 to +30                            | `[-50, +100]`                             | Brain segmentation, region-based                              |\n",
    "| **Liver**                 | +40 to +60                            | `[+30, +90]`                              | Graph-based segmentation (e.g., random walker), texture-based |\n",
    "| **Soft Tissue, Contrast** | +100 to +300                          | `[-100, +200]`                            | Region-based, graph-based, texture-based                      |\n",
    "| **Bone**                  | +700 (cancellous) to +3000 (cortical) | `[-300, +2000]`                           | Thresholding for bone extraction, statistical shape models    |\n"
   ]
  },
  {
   "cell_type": "markdown",
   "metadata": {},
   "source": [
    "\n",
    "\n",
    "### Why Windowing Ranges Are Useful\n",
    "\n",
    "1. **Focus on Specific Tissues**:\n",
    "   - Different anatomical structures have specific HU ranges. For example:\n",
    "     - **Lung tissues**: typically fall between `-1000` and `-400` HU.\n",
    "     - **Soft tissues**: such as muscles or organs like the liver, have HU values around `-100` to `+200`.\n",
    "     - **Bone**: values are higher, ranging from `+300` to `+2000` HU.\n",
    "   - Applying windowing helps focus on the intensity ranges that best represent the tissue of interest, making segmentation more accurate.\n",
    "\n",
    "2. **Enhancing Contrast for Specific Methods**:\n",
    "   - Segmentation methods like thresholding, edge detection, and even some region-based methods work better when there is good contrast between the region of interest and the background. Proper windowing enhances this contrast.\n",
    "\n",
    "3. **Reducing Noise and Artifacts**:\n",
    "   - Windowing can help suppress irrelevant structures and noise. For example, a narrow window focusing on lung tissue can ignore the high-density bones, making it easier to isolate the lungs."
   ]
  },
  {
   "cell_type": "markdown",
   "metadata": {},
   "source": [
    "### 1. Threshold-Based Segmentation\n",
    "\n",
    "Threshold-based segmentation is a simple and effective technique used to separate objects from the background in an image by converting grayscale or intensity images into binary images. This method involves selecting a specific intensity value (or range) as a threshold to distinguish between different regions.\n",
    "\n",
    "- **Key Features**:\n",
    "  - **Intensity Values**: Pixels with intensity values above the threshold are classified as one class (e.g., object), while those below are classified as another (e.g., background). \n",
    "  - **Applications**: Commonly used in various fields, such as medical imaging for tumor detection, industrial applications for quality control, and computer vision for object detection.\n",
    "\n",
    "The choice of threshold value is crucial; too low may include noise or unwanted objects, while too high may miss important features. The optimal threshold maximizes the distinction between the object and background, often determined through methods like Otsu's method, which computes the threshold that minimizes intra-class variance.\n",
    "\n",
    "Threshold-based segmentation is particularly useful when the object and background have significantly different intensity distributions, allowing for straightforward and efficient separation."
   ]
  },
  {
   "cell_type": "code",
   "execution_count": null,
   "metadata": {},
   "outputs": [],
   "source": [
    "# Plot histogram of intensity values to find suitable threshold ranges\n",
    "plt.hist(lung_volume.flatten(), bins=100, color='c', edgecolor='black')\n",
    "plt.title(\"Histogram of CT Intensity Values\")\n",
    "plt.xlabel(\"Intensity\")\n",
    "plt.ylabel(\"Frequency\")\n",
    "plt.show()\n",
    "\n",
    "# Apply windowing: focus on typical lung tissue range in Hounsfield Units (HU)\n",
    "# This range is typically between -1000 and -400 HU for lung tissues.\n",
    "lung_window = np.clip(lung_volume, -1000, -400)\n",
    "\n",
    "# Normalize the windowed volume to [0, 1] for better thresholding\n",
    "normalized_lung_volume = (lung_window - lung_window.min()) / (lung_window.max() - lung_window.min())\n",
    "\n",
    "# Apply Otsu's thresholding on the normalized volume\n",
    "from skimage.filters import threshold_otsu\n",
    "threshold = threshold_otsu(normalized_lung_volume)\n",
    "binary_volume = normalized_lung_volume > threshold\n",
    "\n",
    "# Visualize the improved threshold-based segmentation\n",
    "plot_slices(binary_volume, \"Improved Threshold-Based Segmentation\")\n"
   ]
  },
  {
   "cell_type": "code",
   "execution_count": 10,
   "metadata": {},
   "outputs": [],
   "source": [
    "# Visualize the threshold-based segmentation in 3D\n",
    "plot_3d(binary_volume, threshold=0.5, title=\"3D Visualization of Threshold-Based Segmentation\")"
   ]
  },
  {
   "cell_type": "markdown",
   "metadata": {},
   "source": [
    "#### 2. Region-Based Segmentation\n",
    "\n",
    "Region-Based Segmentation using Watershed is an image segmentation technique that partitions an image into distinct regions based on the intensity of pixels, effectively identifying and delineating objects within an image. This method treats the image as a topographic surface, where regions are formed by simulating the flooding of water from identified markers.\n",
    "\n",
    "##### Key Features:\n",
    "- **Topographic Representation**: The algorithm views pixel intensities as elevation levels, with watersheds acting as boundaries that separate different regions.\n",
    "- **Marker-Based Approach**: Initially, markers are defined within the image (often at the center of objects), and the watershed algorithm expands these markers until they meet the boundaries defined by the intensity gradients.\n",
    "- **Applications**: Widely used in medical imaging for segmenting organs or tumors, in computer vision for object recognition, and in image processing for identifying connected components.\n",
    "\n",
    "Region-based segmentation using the watershed algorithm is particularly effective in scenarios where objects are close together and distinct from the background, allowing for precise delineation of boundaries.\n",
    "\n",
    "In this code, we perform region-based segmentation using the watershed algorithm to identify and separate distinct regions in the image. The segmented result is saved and visualized, demonstrating the effectiveness of the watershed technique in accurately delineating objects based on their intensity gradients."
   ]
  },
  {
   "cell_type": "code",
   "execution_count": null,
   "metadata": {},
   "outputs": [],
   "source": [
    "# Apply windowing for better contrast in watershed (-1000 to -400 HU)\n",
    "lung_window_watershed = np.clip(lung_volume, -1000, -400)\n",
    "normalized_lung_volume_watershed = (lung_window_watershed - lung_window_watershed.min()) / (\n",
    "    lung_window_watershed.max() - lung_window_watershed.min())\n",
    "\n",
    "# Use Canny edge detection as markers for watershed\n",
    "watershed_volume = np.zeros_like(lung_volume)\n",
    "for i in range(normalized_lung_volume_watershed.shape[2]):\n",
    "    edges = canny(normalized_lung_volume_watershed[:, :, i])\n",
    "    distance = ndi.distance_transform_edt(~edges)\n",
    "    markers = ndi.label(distance > 5)[0]\n",
    "    watershed_slice = watershed(-distance, markers, mask=binary_volume[:, :, i])\n",
    "    watershed_volume[:, :, i] = watershed_slice\n",
    "\n",
    "# Visualize region-based segmentation\n",
    "plot_slices(watershed_volume, \"Region-Based Segmentation (Watershed)\")\n"
   ]
  },
  {
   "cell_type": "markdown",
   "metadata": {},
   "source": [
    "#### 3. Edge-Based Segmentation\n",
    "\n",
    "Edge-Based Segmentation is an image segmentation technique that identifies and delineates objects in an image by detecting sharp changes in intensity, known as edges. This method focuses on locating the boundaries of objects, making it effective for segmenting regions based on their distinct contours.\n",
    "\n",
    "##### Key Features:\n",
    "- **Boundary Detection**: Utilizes edge detection operators (e.g., Sobel, Canny, or Prewitt) to find areas where there is a significant gradient in pixel intensity, indicating the presence of an edge.\n",
    "- **Applications**: Commonly employed in various fields, including medical imaging to identify anatomical structures, in object detection tasks in computer vision, and in industrial applications for quality control.\n",
    "- **Post-Processing**: Often combined with techniques like morphological operations to refine the detected edges and fill gaps, ensuring more accurate segmentation.\n",
    "\n",
    "Edge-based segmentation is particularly effective in scenarios where the boundaries of objects are well-defined and distinct from the background, allowing for precise delineation of shapes and contours.\n",
    "\n",
    "In this code, we perform edge-based segmentation using an edge detection algorithm to identify and outline the boundaries of objects within the image. The segmented result is saved and visualized, showcasing the effectiveness of the edge-based approach in accurately capturing object contours based on intensity changes.\n",
    "\n"
   ]
  },
  {
   "cell_type": "code",
   "execution_count": null,
   "metadata": {},
   "outputs": [],
   "source": [
    "# Windowing to enhance edges (-1000 to -500 HU)\n",
    "lung_window_edges = np.clip(lung_volume, -1000, -500)\n",
    "normalized_lung_volume_edges = (lung_window_edges - lung_window_edges.min()) / (\n",
    "    lung_window_edges.max() - lung_window_edges.min())\n",
    "\n",
    "# Apply Canny edge detection on each slice\n",
    "edge_volume = np.zeros_like(normalized_lung_volume_edges)\n",
    "for i in range(normalized_lung_volume_edges.shape[2]):\n",
    "    edge_volume[:, :, i] = canny(normalized_lung_volume_edges[:, :, i], sigma=2)\n",
    "\n",
    "# Visualize edge-based segmentation\n",
    "plot_slices(edge_volume, \"Edge-Based Segmentation (Canny)\")\n"
   ]
  },
  {
   "cell_type": "markdown",
   "metadata": {},
   "source": [
    "#### 4. Graph-Based Segmentation: Random Walker\n",
    "\n",
    "Graph-Based Segmentation: Random Walker is an image segmentation technique that models the image as a graph, where pixels are represented as nodes and the edges represent the relationships (or similarities) between them. This method utilizes the concept of random walks to propagate labels through the graph, allowing for effective segmentation based on pixel connectivity.\n",
    "\n",
    "##### Key Features:\n",
    "- **Graph Representation**: Each pixel is treated as a node, and edges are defined based on pixel similarity, often calculated using intensity values or spatial proximity.\n",
    "- **Label Propagation**: The algorithm assigns labels to a subset of pixels (seeds) and then uses random walks to propagate these labels throughout the graph, effectively segmenting the image based on the labels assigned to the seed pixels.\n",
    "- **Applications**: Commonly used in medical imaging for segmenting organs or tumors, in computer vision for object recognition, and in scenarios where precise boundaries are required, such as separating overlapping objects.\n",
    "\n",
    "Graph-based segmentation using the Random Walker approach is particularly effective when there are well-defined regions and clear relationships between pixels, as it can accurately capture the connectivity and structure of objects within the image.\n",
    "\n",
    "In this code, we perform graph-based segmentation using the Random Walker algorithm to partition the image into distinct regions based on pixel relationships. The segmented result is saved and visualized, demonstrating the effectiveness of the Random Walker technique in achieving accurate segmentation through label propagation in a graph framework."
   ]
  },
  {
   "cell_type": "code",
   "execution_count": null,
   "metadata": {},
   "outputs": [],
   "source": [
    "from skimage.segmentation import random_walker\n",
    "\n",
    "# Step 1: Windowing for soft tissue and air separation for Random Walker (-1000 to -400 HU)\n",
    "lung_window_graph = np.clip(lung_volume, -1000, -400)\n",
    "normalized_lung_graph = (lung_window_graph - lung_window_graph.min()) / (\n",
    "    lung_window_graph.max() - lung_window_graph.min())\n",
    "\n",
    "# Step 2: Use random walker for graph-based segmentation with adjusted markers\n",
    "graph_volume = np.zeros_like(normalized_lung_graph)\n",
    "for i in range(normalized_lung_graph.shape[2]):\n",
    "    # Create markers based on adjusted thresholds\n",
    "    markers = np.zeros_like(normalized_lung_graph[:, :, i])\n",
    "    markers[normalized_lung_graph[:, :, i] < 0.3] = 1  # Air regions (lower normalized values)\n",
    "    markers[normalized_lung_graph[:, :, i] > 0.7] = 2  # Soft tissues (higher normalized values)\n",
    "    \n",
    "    # Apply Random Walker segmentation\n",
    "    try:\n",
    "        graph_volume[:, :, i] = random_walker(normalized_lung_graph[:, :, i], markers, beta=10, mode='bf')\n",
    "    except ValueError:\n",
    "        # If segmentation fails (e.g., due to poor markers), fill with zeros\n",
    "        graph_volume[:, :, i] = np.zeros_like(normalized_lung_graph[:, :, i])\n",
    "\n",
    "# Step 3: Visualize the improved graph-based segmentation\n",
    "plot_slices(graph_volume, \"Graph-Based Segmentation (Random Walker)\")\n"
   ]
  },
  {
   "cell_type": "markdown",
   "metadata": {},
   "source": [
    "#### 5. Morphological Segmentation\n",
    "\n",
    "Morphological Segmentation is an image segmentation technique that utilizes morphological operations to analyze and process the shape and structure of objects within an image. This method is based on the mathematical morphology theory, focusing on the spatial arrangement of pixels to extract meaningful structures and features.\n",
    "\n",
    "##### Key Features:\n",
    "- **Shape Analysis**: Employs operations such as dilation, erosion, opening, and closing to manipulate the shapes of objects in the image, enabling the identification of specific features based on their morphology.\n",
    "- **Structural Elements**: Uses predefined shapes (structuring elements) to probe and transform the image, facilitating the segmentation of objects based on their size, shape, and connectivity.\n",
    "- **Applications**: Commonly used in medical imaging to isolate anatomical structures, in industrial applications for object recognition, and in any scenario requiring the extraction of specific features from an image.\n",
    "\n",
    "Morphological segmentation is particularly effective in situations where the objects of interest have distinct shapes or are well-separated from the background, allowing for precise extraction of features based on their morphological characteristics.\n",
    "\n",
    "In this code, we perform morphological segmentation using operations to enhance and isolate specific structures within the image. The segmented result is saved and visualized, showcasing the effectiveness of morphological techniques in accurately capturing and delineating object shapes based on their spatial arrangement."
   ]
  },
  {
   "cell_type": "code",
   "execution_count": null,
   "metadata": {},
   "outputs": [],
   "source": [
    "# Windowing for air vs. tissue (-1000 to -400 HU) for initial binary segmentation\n",
    "lung_window_morph = np.clip(lung_volume, -1000, -400)\n",
    "binary_morph_volume = lung_window_morph > -600\n",
    "\n",
    "# Apply morphological operations to clean up the mask\n",
    "morph_volume = morphology.remove_small_objects(binary_morph_volume.astype(bool), min_size=500)\n",
    "morph_volume = ndi.binary_fill_holes(morph_volume)\n",
    "\n",
    "# Visualize morphological segmentation\n",
    "plot_slices(morph_volume, \"Morphological Segmentation\")\n"
   ]
  },
  {
   "cell_type": "markdown",
   "metadata": {},
   "source": [
    "#### 5. Texture-Based Segmentation: Local Binary Patterns (LBP)\n",
    "\n",
    "**Texture-Based Segmentation using Local Binary Patterns (LBP)** is a technique that focuses on analyzing the texture features of an image to segment different regions based on their local patterns. LBP is a simple yet powerful descriptor that encodes the local texture information by comparing the intensity of a pixel with its neighboring pixels.\n",
    "\n",
    "##### Key Features:\n",
    "- **Local Texture Analysis**: LBP converts an image into a binary representation by comparing each pixel to its neighbors, resulting in a unique binary code that reflects local texture characteristics.\n",
    "- **Robustness to Illumination Changes**: This method is particularly effective in varying lighting conditions, as it focuses on the relative differences between pixel intensities rather than their absolute values.\n",
    "- **Applications**: Commonly used in facial recognition, object detection, and medical imaging to distinguish between different tissue types or abnormalities based on their texture.\n",
    "\n",
    "Texture-based segmentation using LBP is especially useful when the image contains distinct textural patterns that can help differentiate between regions.\n",
    "\n",
    "In this code, we perform texture-based segmentation using Local Binary Patterns to analyze and categorize different regions of the image based on their texture features. The segmented result is saved and visualized, demonstrating the effectiveness of LBP in capturing and distinguishing textural variations."
   ]
  },
  {
   "cell_type": "code",
   "execution_count": null,
   "metadata": {},
   "outputs": [],
   "source": [
    "# Windowing for emphasizing lung textures (-1000 to -400 HU)\n",
    "lung_window_texture = np.clip(lung_volume, -1000, -400)\n",
    "normalized_lung_texture = (lung_window_texture - lung_window_texture.min()) / (\n",
    "    lung_window_texture.max() - lung_window_texture.min())\n",
    "\n",
    "# Apply Local Binary Patterns (LBP) to identify texture patterns\n",
    "texture_volume = np.zeros_like(normalized_lung_texture)\n",
    "for i in range(normalized_lung_texture.shape[2]):\n",
    "    texture_volume[:, :, i] = local_binary_pattern(normalized_lung_texture[:, :, i], P=8, R=1)\n",
    "\n",
    "# Visualize texture-based segmentation\n",
    "plot_slices(texture_volume, \"Texture-Based Segmentation (LBP)\")\n"
   ]
  },
  {
   "cell_type": "markdown",
   "metadata": {},
   "source": [
    "#### 6. Statistical Shape Models (SSM)\n",
    "\n",
    "**Statistical Shape Models (SSM)** are a powerful approach to image segmentation that leverages statistical information about the shapes of objects in an image. This method models the variability of object shapes based on a training set, enabling accurate segmentation by comparing the observed shape with the learned statistical models.\n",
    "\n",
    "##### Key Features:\n",
    "- **Shape Variability**: SSM captures the mean shape and its variations from a set of training examples, allowing for the modeling of both common and atypical shapes.\n",
    "- **Shape Constraints**: Incorporates prior knowledge about the expected shapes, guiding the segmentation process to favor plausible shapes based on the statistical model.\n",
    "- **Applications**: Widely used in medical imaging to segment anatomical structures, such as organs or lesions, where shape information is critical for accurate delineation.\n",
    "\n",
    "Statistical Shape Models are particularly effective when segmenting objects with consistent shapes, as they enhance the robustness of the segmentation against noise and variations.\n",
    "\n",
    "In this code, we perform segmentation using Statistical Shape Models to delineate objects in the image based on learned shape characteristics. The segmented result is saved and visualized, showcasing the effectiveness of SSM in accurately capturing object shapes."
   ]
  },
  {
   "cell_type": "code",
   "execution_count": null,
   "metadata": {},
   "outputs": [],
   "source": [
    "# Use a 2D disk-shaped structuring element for each slice\n",
    "shape_mask = morphology.disk(1)  # Create a 2D disk-shaped structure\n",
    "ssm_volume = np.zeros_like(lung_volume)\n",
    "\n",
    "for i in range(lung_volume.shape[2]):\n",
    "    ssm_volume[:, :, i] = ndi.binary_erosion(binary_volume[:, :, i], structure=shape_mask)\n",
    "\n",
    "# Visualize Statistical Shape Model-based segmentation\n",
    "plot_slices(ssm_volume, \"Statistical Shape Models (SSM)\")\n"
   ]
  },
  {
   "cell_type": "code",
   "execution_count": 9,
   "metadata": {},
   "outputs": [],
   "source": [
    "from skimage import measure\n",
    "from mpl_toolkits.mplot3d.art3d import Poly3DCollection\n",
    "import matplotlib.pyplot as plt\n",
    "\n",
    "def plot_3d(image, threshold=-300, title=\"3D Visualization\"):\n",
    "    \"\"\"\n",
    "    Generates a 3D plot for the given 3D image volume using a specified threshold.\n",
    "    :param image: 3D numpy array representing the volume to visualize.\n",
    "    :param threshold: Threshold for the `marching_cubes` algorithm.\n",
    "    :param title: Title for the plot.\n",
    "    \"\"\"\n",
    "    # Reorient the image so it is displayed correctly in 3D space.\n",
    "    p = image.transpose(2, 1, 0)\n",
    "    \n",
    "    # Extract mesh using marching cubes at the given threshold.\n",
    "    verts, faces, _, _ = measure.marching_cubes(p, level=threshold)\n",
    "\n",
    "    # Create a figure for 3D plotting.\n",
    "    fig = plt.figure(figsize=(10, 10))\n",
    "    ax = fig.add_subplot(111, projection='3d')\n",
    "\n",
    "    # Create a 3D mesh collection.\n",
    "    mesh = Poly3DCollection(verts[faces], alpha=0.7)\n",
    "    face_color = [0.45, 0.45, 0.75]  # Adjust color for better visualization.\n",
    "    mesh.set_facecolor(face_color)\n",
    "    ax.add_collection3d(mesh)\n",
    "\n",
    "    # Set limits to match the volume's dimensions.\n",
    "    ax.set_xlim(0, p.shape[0])\n",
    "    ax.set_ylim(0, p.shape[1])\n",
    "    ax.set_zlim(0, p.shape[2])\n",
    "\n",
    "    plt.title(title)\n",
    "    plt.show()\n"
   ]
  },
  {
   "cell_type": "code",
   "execution_count": null,
   "metadata": {},
   "outputs": [],
   "source": [
    "from skimage.transform import resize\n",
    "\n",
    "# Downsample the lung volume for faster rendering\n",
    "downsampled_volume = resize(lung_volume, (lung_volume.shape[0]//2, lung_volume.shape[1]//2, lung_volume.shape[2]//2),\n",
    "                            mode='constant', anti_aliasing=True)\n",
    "\n",
    "# Visualize the downsampled volume with a suitable threshold\n",
    "plot_3d(downsampled_volume, threshold=-700, title=\"3D Visualization of Downsampled Lung CT\")\n"
   ]
  },
  {
   "cell_type": "code",
   "execution_count": null,
   "metadata": {},
   "outputs": [],
   "source": [
    "\n"
   ]
  },
  {
   "cell_type": "code",
   "execution_count": null,
   "metadata": {},
   "outputs": [],
   "source": [
    "# Visualize the region-based segmentation (watershed) in 3D\n",
    "plot_3d(watershed_volume, threshold=0.5, title=\"3D Visualization of Region-Based Segmentation (Watershed)\")\n"
   ]
  },
  {
   "cell_type": "code",
   "execution_count": null,
   "metadata": {},
   "outputs": [],
   "source": [
    "# Visualize the edge-based segmentation in 3D\n",
    "plot_3d(edge_volume, threshold=0.5, title=\"3D Visualization of Edge-Based Segmentation (Canny)\")\n"
   ]
  },
  {
   "cell_type": "code",
   "execution_count": null,
   "metadata": {},
   "outputs": [],
   "source": [
    "# Visualize the graph-based segmentation in 3D\n",
    "plot_3d(graph_volume, threshold=0.5, title=\"3D Visualization of Graph-Based Segmentation (Random Walker)\")\n"
   ]
  },
  {
   "cell_type": "code",
   "execution_count": null,
   "metadata": {},
   "outputs": [],
   "source": [
    "# Visualize the morphological segmentation in 3D\n",
    "plot_3d(morph_volume, threshold=0.5, title=\"3D Visualization of Morphological Segmentation\")\n"
   ]
  },
  {
   "cell_type": "code",
   "execution_count": null,
   "metadata": {},
   "outputs": [],
   "source": [
    "# Visualize the texture-based segmentation in 3D\n",
    "plot_3d(texture_volume, threshold=0.5, title=\"3D Visualization of Texture-Based Segmentation\")\n"
   ]
  },
  {
   "cell_type": "code",
   "execution_count": null,
   "metadata": {},
   "outputs": [],
   "source": [
    "# Visualize the level set segmentation (GAC) in 3D\n",
    "plot_3d(gac_volume, threshold=0.5, title=\"3D Visualization of Level Set Segmentation (GAC)\")\n"
   ]
  },
  {
   "attachments": {
    "image.png": {
     "image/png": "[encoded data removed]"
    }
   },
   "cell_type": "markdown",
   "metadata": {},
   "source": [
    "### ### Coding project - **Skull Stripping of Brain MRI**\n",
    "\n",
    "**Objective:**  \n",
    "Perform skull stripping on brain MRI (brain.nii from previous TP) to isolate the brain tissue from surrounding structures, such as the skull and scalp. The goal is to achieve accurate segmentation of brain tissue and evaluate the quality of the segmentation using appropriate metrics.\n",
    "\n",
    "![image.png](attachment:image.png)\n",
    "\n",
    "1. **Skull Stripping Techniques:**  \n",
    "   - Implement various skull stripping methods to segment the brain from non-brain structures. Focus on techniques that effectively handle the complexities of MRI data, such as intensity variations and anatomical differences.\n",
    "\n",
    "2. **Evaluate Segmentation Quality:**  \n",
    "   - Calculate the following similarity metrics to assess the quality of the brain segmentation:\n",
    "     - **Dice Similarity Coefficient (DSC)**\n",
    "     - **Jaccard Index (IoU)**\n",
    "     - **Mean Surface Distance (MSD)**\n",
    "\n",
    "3. **Analysis and Comparison:**  \n",
    "   - Compare the similarity metrics obtained from different skull stripping methods.\n",
    "   - Analyze which method provides the most accurate segmentation of brain tissue based on the calculated metrics.\n",
    "\n",
    "##### Considerations for Skull Stripping of Brain MRI:\n",
    "\n",
    "- **Intensity Variability:**  \n",
    "  MRI images can exhibit variability in intensity due to noise, artifacts, and differences in scanning protocols. Employing robust methods that can adapt to these variations is essential for accurate segmentation.\n",
    "\n",
    "- **Anatomical Variability:**  \n",
    "  Each individual's brain anatomy may differ significantly, necessitating the use of techniques that can generalize well across different brain shapes and sizes.\n",
    "\n",
    "- **Preprocessing Needs:**  \n",
    "  Resampling the MRI images to a uniform resolution and normalizing intensity values can improve segmentation accuracy. Optionally, applying filtering techniques can enhance image quality before skull stripping.\n",
    "\n",
    "- **Boundary Definition:**  \n",
    "  The boundaries between brain tissue and surrounding structures may be blurred; thus, methods that effectively handle smooth transitions and maintain the integrity of the brain’s shape should be prioritized.\n",
    "\n",
    "- **Impact on Metrics:**  \n",
    "  Metrics like **DSC** and **IoU** provide valuable insights into segmentation accuracy, while **MSD** can help assess boundary alignment. Visual assessments alongside these metrics can validate the segmentation results.\n",
    "\n",
    "This task is crucial for subsequent neuroimaging analyses, ensuring that accurate brain segmentation lays the foundation for reliable results in various medical applications."
   ]
  },
  {
   "cell_type": "markdown",
   "metadata": {},
   "source": []
  }
 ],
 "metadata": {
  "kernelspec": {
   "display_name": ".venv",
   "language": "python",
   "name": "python3"
  },
  "language_info": {
   "codemirror_mode": {
    "name": "ipython",
    "version": 3
   },
   "file_extension": ".py",
   "mimetype": "text/x-python",
   "name": "python",
   "nbconvert_exporter": "python",
   "pygments_lexer": "ipython3",
   "version": "3.10.12"
  }
 },
 "nbformat": 4,
 "nbformat_minor": 2
}
