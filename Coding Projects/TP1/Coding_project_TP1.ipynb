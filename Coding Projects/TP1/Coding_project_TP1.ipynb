{
 "cells": [
  {
   "cell_type": "markdown",
   "metadata": {},
   "source": [
    "# Coding Project - Watermark\n",
    "\n",
    "Write code to automatically add a watermark to a photograph.\n",
    "\n",
    "![ ](wm_proj.jpg)\n",
    "\n",
    "## Main requirements\n",
    "\n",
    "The minimum requirements are to:\n",
    "* Add the white pixels from the watermark somewhere in the photograph.\n",
    "* Save the resulting image as an image file & display it in the notebook\n",
    "\n",
    "You may use the *watermark.png* file available in the GitHub repository, or choose/create your own.\n",
    "\n",
    "## Additional requirements\n",
    "\n",
    "(note: this is not an exhaustive list, use your imagination!)\n",
    "\n",
    "* Add an option to choose the watermark location\n",
    "* Add transparency effect to the watermark\n",
    "* Determine if the watermark should be dark or light based on the luminosity of the image"
   ]
  },
  {
   "cell_type": "markdown",
   "metadata": {},
   "source": [
    "------------------------------------------------------------------------------------------------------------------------------\n",
    "# Approach\n",
    "\n",
    "Since i didn't found the image mentionned in the instructions (wm_proj.jpg), i did it with the balloon image (view.jpg)\n",
    "\n",
    "<img src=\"view.jpg\" alt=\"view\" width=\"300\"/>\n",
    "\n",
    "fot the watermark, i decided to use a custom one. \n",
    "\n",
    "here is my approach : \n",
    "\n",
    "\n",
    "\n"
   ]
  },
  {
   "cell_type": "code",
   "execution_count": 52,
   "metadata": {},
   "outputs": [
    {
     "ename": "FileNotFoundError",
     "evalue": "[Errno 2] No such file or directory",
     "output_type": "error",
     "traceback": [
      "\u001b[0;31m---------------------------------------------------------------------------\u001b[0m",
      "\u001b[0;31mFileNotFoundError\u001b[0m                         Traceback (most recent call last)",
      "Cell \u001b[0;32mIn[52], line 28\u001b[0m\n\u001b[1;32m     25\u001b[0m         base_image\u001b[38;5;241m.\u001b[39msave(output_image_path)\n\u001b[1;32m     26\u001b[0m     \u001b[38;5;28;01mreturn\u001b[39;00m base_image\n\u001b[0;32m---> 28\u001b[0m test1 \u001b[38;5;241m=\u001b[39m \u001b[43mwatermark_photo\u001b[49m\u001b[43m(\u001b[49m\u001b[38;5;124;43m\"\u001b[39;49m\u001b[38;5;124;43mview.jpg\u001b[39;49m\u001b[38;5;124;43m\"\u001b[39;49m\u001b[43m,\u001b[49m\u001b[43m \u001b[49m\u001b[38;5;124;43m\"\u001b[39;49m\u001b[38;5;124;43mLogo_of_CP.png\u001b[39;49m\u001b[38;5;124;43m\"\u001b[39;49m\u001b[43m,\u001b[49m\u001b[43m \u001b[49m\u001b[38;5;124;43m\"\u001b[39;49m\u001b[38;5;124;43mCustom_img_1.jpg\u001b[39;49m\u001b[38;5;124;43m\"\u001b[39;49m\u001b[43m,\u001b[49m\u001b[43m \u001b[49m\u001b[43malpha\u001b[49m\u001b[38;5;241;43m=\u001b[39;49m\u001b[38;5;241;43m0.5\u001b[39;49m\u001b[43m,\u001b[49m\u001b[43m \u001b[49m\u001b[43msize_multiplier\u001b[49m\u001b[38;5;241;43m=\u001b[39;49m\u001b[38;5;241;43m0.5\u001b[39;49m\u001b[43m)\u001b[49m\n\u001b[1;32m     29\u001b[0m test1\u001b[38;5;241m.\u001b[39mshow()\n",
      "Cell \u001b[0;32mIn[52], line 7\u001b[0m, in \u001b[0;36mwatermark_photo\u001b[0;34m(photo_path, watermark_path, output_image_path, alpha, size_multiplier)\u001b[0m\n\u001b[1;32m      5\u001b[0m \u001b[38;5;28;01mdef\u001b[39;00m \u001b[38;5;21mwatermark_photo\u001b[39m(photo_path: \u001b[38;5;28mstr\u001b[39m, watermark_path: \u001b[38;5;28mstr\u001b[39m, output_image_path: \u001b[38;5;28mstr\u001b[39m \u001b[38;5;241m=\u001b[39m \u001b[38;5;28;01mNone\u001b[39;00m, alpha\u001b[38;5;241m=\u001b[39m\u001b[38;5;241m0.5\u001b[39m, size_multiplier\u001b[38;5;241m=\u001b[39m\u001b[38;5;241m0.5\u001b[39m):\n\u001b[0;32m----> 7\u001b[0m     base_image \u001b[38;5;241m=\u001b[39m \u001b[43mImage\u001b[49m\u001b[38;5;241;43m.\u001b[39;49m\u001b[43mopen\u001b[49m\u001b[43m(\u001b[49m\u001b[43mphoto_path\u001b[49m\u001b[43m)\u001b[49m\n\u001b[1;32m      8\u001b[0m     watermark \u001b[38;5;241m=\u001b[39m Image\u001b[38;5;241m.\u001b[39mopen(watermark_path)\u001b[38;5;241m.\u001b[39mconvert(\u001b[38;5;124m\"\u001b[39m\u001b[38;5;124mRGBA\u001b[39m\u001b[38;5;124m\"\u001b[39m) \u001b[38;5;66;03m# Avoid P mode\u001b[39;00m\n\u001b[1;32m     10\u001b[0m     position \u001b[38;5;241m=\u001b[39m (\u001b[38;5;241m750\u001b[39m,\u001b[38;5;241m430\u001b[39m)\n",
      "File \u001b[0;32m~/miniconda3/envs/new_env/lib/python3.12/site-packages/PIL/Image.py:3466\u001b[0m, in \u001b[0;36mopen\u001b[0;34m(fp, mode, formats)\u001b[0m\n\u001b[1;32m   3464\u001b[0m filename: \u001b[38;5;28mstr\u001b[39m \u001b[38;5;241m|\u001b[39m \u001b[38;5;28mbytes\u001b[39m \u001b[38;5;241m=\u001b[39m \u001b[38;5;124m\"\u001b[39m\u001b[38;5;124m\"\u001b[39m\n\u001b[1;32m   3465\u001b[0m \u001b[38;5;28;01mif\u001b[39;00m is_path(fp):\n\u001b[0;32m-> 3466\u001b[0m     filename \u001b[38;5;241m=\u001b[39m \u001b[43mos\u001b[49m\u001b[38;5;241;43m.\u001b[39;49m\u001b[43mpath\u001b[49m\u001b[38;5;241;43m.\u001b[39;49m\u001b[43mrealpath\u001b[49m\u001b[43m(\u001b[49m\u001b[43mos\u001b[49m\u001b[38;5;241;43m.\u001b[39;49m\u001b[43mfspath\u001b[49m\u001b[43m(\u001b[49m\u001b[43mfp\u001b[49m\u001b[43m)\u001b[49m\u001b[43m)\u001b[49m\n\u001b[1;32m   3468\u001b[0m \u001b[38;5;28;01mif\u001b[39;00m filename:\n\u001b[1;32m   3469\u001b[0m     fp \u001b[38;5;241m=\u001b[39m builtins\u001b[38;5;241m.\u001b[39mopen(filename, \u001b[38;5;124m\"\u001b[39m\u001b[38;5;124mrb\u001b[39m\u001b[38;5;124m\"\u001b[39m)\n",
      "File \u001b[0;32m<frozen posixpath>:428\u001b[0m, in \u001b[0;36mrealpath\u001b[0;34m(filename, strict)\u001b[0m\n",
      "File \u001b[0;32m<frozen posixpath>:415\u001b[0m, in \u001b[0;36mabspath\u001b[0;34m(path)\u001b[0m\n",
      "\u001b[0;31mFileNotFoundError\u001b[0m: [Errno 2] No such file or directory"
     ]
    }
   ],
   "source": [
    "# -- Your code here -- #\n",
    "from PIL import Image\n",
    "from imageio import imread\n",
    "\n",
    "def watermark_photo(photo_path: str, watermark_path: str, output_image_path: str = None, alpha=0.5, size_multiplier=0.5):\n",
    "    \n",
    "    base_image = Image.open(photo_path)\n",
    "    watermark = Image.open(watermark_path).convert(\"RGBA\") # Avoid P mode\n",
    "    \n",
    "    position = (750,430)\n",
    "    image = imread(photo_path)\n",
    "    print(image.shape)\n",
    "\n",
    "    newsize = (int(watermark.size[0]*size_multiplier), int(watermark.size[1]*size_multiplier))\n",
    "    watermark = watermark.resize(newsize)\n",
    "    template= imread(watermark_path)\n",
    "    print(template.shape)\n",
    "    print(newsize)\n",
    "\n",
    "    watermark_trans = Image.new(\"RGBA\",watermark.size)\n",
    "    #print(watermark.mode, watermark_trans.mode)\n",
    "    watermark_trans = Image.blend(watermark_trans, watermark, alpha)\n",
    "    base_image.paste(watermark_trans,(position[0]-watermark.size[0], position[1]-watermark.size[1]),watermark_trans)\n",
    "    if output_image_path:\n",
    "        base_image.save(output_image_path)\n",
    "    return base_image\n",
    "\n",
    "test1 = watermark_photo(\"view.jpg\", \"Logo_of_CP.png\", \"Custom_img_1.jpg\", alpha=0.5, size_multiplier=0.5)\n",
    "test1.show()"
   ]
  },
  {
   "cell_type": "markdown",
   "metadata": {},
   "source": [
    "# Conclusion \n",
    "\n",
    "I tried to apply with my custom watermark (since we had already the corrections for this project, i tought i would add some things myself)\n",
    "\n",
    "There is still a little miscomprehension with the size of the .png images. there so much different i couldn't use the same function on both. \n",
    "\n",
    "That is why i added a argument to my function so i could change the resize multiplier as i want whith differents image. (here one png is size  $84$ x $84$ and the other is $5650$ x $5650$)"
   ]
  }
 ],
 "metadata": {
  "kernelspec": {
   "display_name": "new_env",
   "language": "python",
   "name": "python3"
  },
  "language_info": {
   "codemirror_mode": {
    "name": "ipython",
    "version": 3
   },
   "file_extension": ".py",
   "mimetype": "text/x-python",
   "name": "python",
   "nbconvert_exporter": "python",
   "pygments_lexer": "ipython3",
   "version": "3.12.7"
  }
 },
 "nbformat": 4,
 "nbformat_minor": 2
}
